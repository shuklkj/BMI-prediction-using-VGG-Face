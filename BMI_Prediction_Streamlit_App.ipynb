{
 "cells": [
  {
   "cell_type": "code",
   "execution_count": 1,
   "id": "60a34e66",
   "metadata": {},
   "outputs": [],
   "source": [
    "import cv2\n",
    "import numpy as np\n",
    "import streamlit as st\n",
    "from mtcnn import MTCNN\n",
    "import os\n",
    "from tensorflow.keras.models import load_model\n",
    "import matplotlib.pyplot as plt\n",
    "import matplotlib.image as img"
   ]
  },
  {
   "cell_type": "code",
   "execution_count": 2,
   "id": "2f669c2d",
   "metadata": {},
   "outputs": [],
   "source": [
    "# Load the pre-trained BMI model\n",
    "# set the path to the directory containing the images\n",
    "path = \"/Users/kajalshukla/Desktop/Quarter-3/ML & Predictive Analytics/ML_Final_Project/Final_Project\"\n",
    "model_path = os.path.join(path, 'bmi_pred_model_v10.h5')\n",
    "bmi_model = load_model(model_path)\n"
   ]
  },
  {
   "cell_type": "code",
   "execution_count": 3,
   "id": "cbfcf89e",
   "metadata": {},
   "outputs": [],
   "source": [
    "# Define the face detector\n",
    "detector = MTCNN()"
   ]
  },
  {
   "cell_type": "code",
   "execution_count": 4,
   "id": "a86b9204",
   "metadata": {},
   "outputs": [],
   "source": [
    "def run_realtime_camera():\n",
    "    # Create a video capture object\n",
    "    cap = cv2.VideoCapture(0)\n",
    "\n",
    "    bmi_values = []\n",
    "\n",
    "    # Create a Streamlit placeholder for the video\n",
    "    video_placeholder = st.empty()\n",
    "\n",
    "    # Start the video capture loop\n",
    "    while True:\n",
    "        # Capture a frame from the camera\n",
    "        ret, frame = cap.read()\n",
    "\n",
    "        # Detect faces in the frame\n",
    "        faces = detector.detect_faces(frame)\n",
    "\n",
    "        # Iterate over the detected faces\n",
    "        for face in faces:\n",
    "            # Extract the face coordinates\n",
    "            x, y, width, height = face['box']\n",
    "            x1, y1 = x + width, y + height\n",
    "\n",
    "            # Preprocess the face image\n",
    "            face_img = frame[y:y1, x:x1]\n",
    "            face_img = cv2.resize(face_img, (224, 224))\n",
    "            face_img = np.expand_dims(face_img, axis=0)\n",
    "            face_img = np.array(face_img) / 255.0 \n",
    "\n",
    "            # Get the predicted BMI value (assuming you have a regression model)\n",
    "            predicted_bmi = bmi_model.predict(face_img)\n",
    "            bmi_values.append(predicted_bmi[0][0])\n",
    "\n",
    "            # Draw a rectangle around the face\n",
    "            cv2.rectangle(frame, (x, y), (x1, y1), (0, 255, 0), 2)\n",
    "\n",
    "            # Display the predicted BMI value on the frame if confidence is above threshold\n",
    "            cv2.putText(frame, f'BMI: {bmi_values[-1]:.2f}', (x, y - 10),\n",
    "                        cv2.FONT_HERSHEY_SIMPLEX, 0.9, (0, 255, 0), 2)\n",
    "\n",
    "        # Display the frame in Streamlit\n",
    "        video_placeholder.image(frame, channels='BGR')\n",
    "\n",
    "        # Break the loop when 'q' key is pressed\n",
    "        if cv2.waitKey(1) & 0xFF == ord('q'):\n",
    "            break\n",
    "\n",
    "    # Release the video capture and close the windows\n",
    "    cap.release()\n",
    "    cv2.destroyAllWindows()\n"
   ]
  },
  {
   "cell_type": "code",
   "execution_count": 5,
   "id": "efb156e1",
   "metadata": {},
   "outputs": [],
   "source": [
    "def upload_image():\n",
    "    uploaded_file = st.sidebar.file_uploader(\"Choose an image\", type=[\"jpg\", \"jpeg\", \"png\", \"bmp\"])\n",
    "    \n",
    "    if uploaded_file is not None:\n",
    "        image = cv2.imdecode(np.fromstring(uploaded_file.read(), np.uint8), 1)\n",
    "        image = cv2.resize(image, (224, 224))\n",
    "        image = np.expand_dims(image, axis=0)\n",
    "        image = np.array(image) / 255.0\n",
    "        \n",
    "        predicted_bmi = bmi_model.predict(image)\n",
    "        \n",
    "        st.write(predicted_bmi[0][0])       \n",
    "        "
   ]
  },
  {
   "cell_type": "code",
   "execution_count": 7,
   "id": "d78e4e0c",
   "metadata": {},
   "outputs": [],
   "source": [
    "def main():\n",
    "    st.title(\"BMI Prediction App\")\n",
    "    st.sidebar.title(\"Options\")\n",
    "    \n",
    "    option = st.sidebar.selectbox(\"Select an option\", (\"Upload Image\", \"Capture from Camera\"))\n",
    "    \n",
    "    if option == \"Capture from Camera\":\n",
    "        run_realtime_camera()\n",
    "    elif option == \"Upload Image\":\n",
    "        upload_image()\n"
   ]
  },
  {
   "cell_type": "code",
   "execution_count": 8,
   "id": "b7e5ba99",
   "metadata": {},
   "outputs": [],
   "source": [
    "if __name__ == \"__main__\":\n",
    "    main()"
   ]
  },
  {
   "cell_type": "code",
   "execution_count": null,
   "id": "f24e0b01",
   "metadata": {},
   "outputs": [],
   "source": []
  },
  {
   "cell_type": "code",
   "execution_count": null,
   "id": "7af31b65",
   "metadata": {},
   "outputs": [],
   "source": []
  },
  {
   "cell_type": "code",
   "execution_count": null,
   "id": "0effbde3",
   "metadata": {},
   "outputs": [],
   "source": []
  },
  {
   "cell_type": "code",
   "execution_count": null,
   "id": "26a64744",
   "metadata": {},
   "outputs": [],
   "source": []
  },
  {
   "cell_type": "code",
   "execution_count": null,
   "id": "2a417838",
   "metadata": {},
   "outputs": [],
   "source": []
  },
  {
   "cell_type": "code",
   "execution_count": null,
   "id": "af7fc9cc",
   "metadata": {},
   "outputs": [],
   "source": []
  },
  {
   "cell_type": "code",
   "execution_count": null,
   "id": "73d32922",
   "metadata": {},
   "outputs": [],
   "source": []
  },
  {
   "cell_type": "code",
   "execution_count": null,
   "id": "5b6b326b",
   "metadata": {},
   "outputs": [],
   "source": []
  },
  {
   "cell_type": "code",
   "execution_count": null,
   "id": "156baf18",
   "metadata": {},
   "outputs": [],
   "source": []
  },
  {
   "cell_type": "code",
   "execution_count": null,
   "id": "c4ed4082",
   "metadata": {},
   "outputs": [],
   "source": []
  },
  {
   "cell_type": "code",
   "execution_count": null,
   "id": "d30a0c97",
   "metadata": {},
   "outputs": [],
   "source": []
  },
  {
   "cell_type": "code",
   "execution_count": null,
   "id": "f5de372c",
   "metadata": {},
   "outputs": [],
   "source": []
  },
  {
   "cell_type": "code",
   "execution_count": null,
   "id": "d002688d",
   "metadata": {},
   "outputs": [],
   "source": []
  },
  {
   "cell_type": "code",
   "execution_count": null,
   "id": "20eb063e",
   "metadata": {},
   "outputs": [],
   "source": []
  },
  {
   "cell_type": "code",
   "execution_count": null,
   "id": "41dffe83",
   "metadata": {},
   "outputs": [],
   "source": []
  },
  {
   "cell_type": "code",
   "execution_count": null,
   "id": "084e171f",
   "metadata": {},
   "outputs": [],
   "source": []
  },
  {
   "cell_type": "code",
   "execution_count": null,
   "id": "6a3c7adc",
   "metadata": {},
   "outputs": [],
   "source": []
  }
 ],
 "metadata": {
  "kernelspec": {
   "display_name": "Python 3 (ipykernel)",
   "language": "python",
   "name": "python3"
  },
  "language_info": {
   "codemirror_mode": {
    "name": "ipython",
    "version": 3
   },
   "file_extension": ".py",
   "mimetype": "text/x-python",
   "name": "python",
   "nbconvert_exporter": "python",
   "pygments_lexer": "ipython3",
   "version": "3.8.16"
  }
 },
 "nbformat": 4,
 "nbformat_minor": 5
}
